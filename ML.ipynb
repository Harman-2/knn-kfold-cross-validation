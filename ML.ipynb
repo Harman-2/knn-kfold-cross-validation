{
 "cells": [
  {
   "cell_type": "code",
   "execution_count": 32,
   "id": "422f56f1-fad8-45eb-b427-7a1811b18642",
   "metadata": {},
   "outputs": [],
   "source": [
    "import numpy as np\n",
    "import pandas as pd\n",
    "from collections import Counter, defaultdict\n",
    "from sklearn.model_selection import KFold\n",
    "from sklearn.metrics import accuracy_score\n",
    "from sklearn.neighbors import KNeighborsClassifier\n",
    "from sklearn.preprocessing import LabelEncoder, StandardScaler\n",
    "from scipy.stats import ttest_rel, wilcoxon\n",
    "\n"
   ]
  },
  {
   "cell_type": "code",
   "execution_count": 16,
   "id": "a0ef92d1",
   "metadata": {},
   "outputs": [],
   "source": [
    "# ---------- Distance ----------\n",
    "def euclidean_distance(a, b):\n",
    "    return float(np.sqrt(np.sum((a - b) ** 2)))\n",
    "\n"
   ]
  },
  {
   "cell_type": "code",
   "execution_count": 17,
   "id": "f316ebc4",
   "metadata": {},
   "outputs": [],
   "source": [
    "# ---------- My KNN ----------\n",
    "def knn_predict_single(train_X, train_y, sample, k=3, weighted=False):\n",
    "    distances = np.linalg.norm(train_X - sample, axis=1)\n",
    "    idx = np.argsort(distances)[:k]\n",
    "    neighbor_labels = train_y[idx]\n",
    "    if not weighted:\n",
    "        counts = Counter(neighbor_labels)\n",
    "        most_common = counts.most_common()\n",
    "        most_common.sort(key=lambda x: (-x[1], x[0]))\n",
    "        return most_common[0][0]\n",
    "    else:\n",
    "        eps = 1e-8\n",
    "        weights = 1.0 / (distances[idx] + eps)\n",
    "        wsum = defaultdict(float)\n",
    "        for lbl, w in zip(neighbor_labels, weights):\n",
    "            wsum[lbl] += w\n",
    "        return max(wsum.items(), key=lambda x: (x[1], -float(x[0])))[0]\n",
    "\n",
    "def knn_predict_batch(train_X, train_y, test_X, k=3, weighted=False):\n",
    "    preds = []\n",
    "    for i in range(test_X.shape[0]):\n",
    "        preds.append(knn_predict_single(train_X, train_y, test_X[i], k, weighted))\n",
    "    return np.array(preds)\n",
    "\n"
   ]
  },
  {
   "cell_type": "code",
   "execution_count": 33,
   "id": "0b923ea6",
   "metadata": {},
   "outputs": [],
   "source": [
    "# ---------- K-Fold CV ----------\n",
    "def evaluate_knn_kfold(X, y, k_nn=3, folds=10, weighted=False, seed=0):\n",
    "    kf = KFold(n_splits=folds, shuffle=True, random_state=seed)\n",
    "    accs = []\n",
    "    for train_idx, test_idx in kf.split(X):\n",
    "        X_train, X_test = X[train_idx], X[test_idx]\n",
    "        y_train, y_test = y[train_idx], y[test_idx]\n",
    "        preds = knn_predict_batch(X_train, y_train, X_test, k=k_nn, weighted=weighted)\n",
    "        accs.append(accuracy_score(y_test, preds))\n",
    "    return accs\n",
    "\n",
    "def evaluate_sklearn_knn_kfold(X, y, k_nn=3, folds=10, seed=0):\n",
    "    kf = KFold(n_splits=folds, shuffle=True, random_state=seed)\n",
    "    accs = []\n",
    "    for train_idx, test_idx in kf.split(X):\n",
    "        X_train, X_test = X[train_idx], X[test_idx]\n",
    "        y_train, y_test = y[train_idx], y[test_idx]\n",
    "        clf = KNeighborsClassifier(n_neighbors=k_nn)\n",
    "        clf.fit(X_train, y_train)\n",
    "        preds = clf.predict(X_test)\n",
    "        accs.append(accuracy_score(y_test, preds))\n",
    "    return accs\n",
    "\n"
   ]
  },
  {
   "cell_type": "code",
   "execution_count": 19,
   "id": "ba0b8509",
   "metadata": {},
   "outputs": [],
   "source": [
    "# ---------- Hypothesis Test ----------\n",
    "def paired_tests(accs_a, accs_b):\n",
    "    accs_a, accs_b = np.array(accs_a), np.array(accs_b)\n",
    "    t_stat, p_val_t = ttest_rel(accs_a, accs_b)\n",
    "    return {\n",
    "        \"t_stat\": t_stat,\n",
    "        \"p_val_t\": p_val_t,\n",
    "        \"mean_diff\": accs_a.mean() - accs_b.mean()\n",
    "    }\n"
   ]
  },
  {
   "cell_type": "code",
   "execution_count": 34,
   "id": "eca72ef5-3cdb-48fb-bd0e-9bca27fdb581",
   "metadata": {},
   "outputs": [
    {
     "name": "stdout",
     "output_type": "stream",
     "text": [
      "    id  hobby  age  education  marital  class\n",
      "0   92      2    1          1        2      1\n",
      "1   10      2    1          3        2      2\n",
      "2   83      3    1          4        1      3\n",
      "3   61      2    4          2        2      3\n",
      "4  107      1    1          3        4      3\n",
      "Shape: (132, 6)\n"
     ]
    }
   ],
   "source": [
    "import pandas as pd\n",
    "import numpy as np\n",
    "import matplotlib.pyplot as plt\n",
    "from sklearn.preprocessing import LabelEncoder, StandardScaler\n",
    "\n",
    "# Store results\n",
    "results = []\n",
    "all_fold_results = {}   # to keep per-fold accuracies for boxplots\n",
    "\n",
    "# ---------------- Hayes-Roth ----------------\n",
    "df = pd.read_csv(\"/Users/harmanpreetkaur/Downloads/hayes-roth.data\", header=None)\n",
    "df.columns = [\"id\", \"hobby\", \"age\", \"education\", \"marital\", \"class\"]\n",
    "print(df.head())\n",
    "print(\"Shape:\", df.shape)\n",
    "\n",
    "df = df.drop(columns=[\"id\"])\n",
    "\n"
   ]
  },
  {
   "cell_type": "code",
   "execution_count": 35,
   "id": "705522df",
   "metadata": {},
   "outputs": [
    {
     "name": "stdout",
     "output_type": "stream",
     "text": [
      "   hobby  age  education  marital  class\n",
      "0      2    1          1        2      0\n",
      "1      2    1          3        2      1\n",
      "2      3    1          4        1      2\n",
      "3      2    4          2        2      2\n",
      "4      1    1          3        4      2\n"
     ]
    }
   ],
   "source": [
    "# Encode categorical\n",
    "for col in [\"hobby\", \"age\", \"education\", \"marital\"]:\n",
    "    df[col] = df[col].astype(int)\n",
    "\n",
    "le = LabelEncoder()\n",
    "df[\"class\"] = le.fit_transform(df[\"class\"].astype(int))\n",
    "print(df.head())\n",
    "\n",
    "X = df.drop(columns=[\"class\"]).values\n",
    "y = df[\"class\"].values\n",
    "X = StandardScaler().fit_transform(X)\n",
    "\n"
   ]
  },
  {
   "cell_type": "code",
   "execution_count": 36,
   "id": "4e6e6edf",
   "metadata": {},
   "outputs": [
    {
     "name": "stdout",
     "output_type": "stream",
     "text": [
      "My KNN accuracies per fold: [0.5, 0.6428571428571429, 0.6153846153846154, 0.5384615384615384, 0.6923076923076923, 0.5384615384615384, 0.5384615384615384, 0.8461538461538461, 0.46153846153846156, 0.3076923076923077]\n",
      "My KNN mean accuracy: 0.5681318681318681\n",
      "Sklearn KNN mean accuracy: 0.5983516483516483\n",
      "Hypothesis Test: {'t_stat': np.float64(-2.447467877194916), 'p_val_t': np.float64(0.036909713421578984), 'mean_diff': np.float64(-0.030219780219780223)}\n"
     ]
    }
   ],
   "source": [
    "my_accs = evaluate_knn_kfold(X, y, k_nn=3, folds=10)\n",
    "sk_accs = evaluate_sklearn_knn_kfold(X, y, k_nn=3, folds=10)\n",
    "tests = paired_tests(my_accs, sk_accs)\n",
    "print(\"My KNN accuracies per fold:\", my_accs)\n",
    "print(\"My KNN mean accuracy:\", np.mean(my_accs))\n",
    "print(\"Sklearn KNN mean accuracy:\", np.mean(sk_accs))\n",
    "print(\"Hypothesis Test:\", tests)\n",
    "results.append((\"Hayes-Roth\", np.mean(my_accs), np.mean(sk_accs), tests[\"p_val_t\"]))\n",
    "all_fold_results[\"Hayes-Roth\"] = (my_accs, sk_accs)\n",
    "\n"
   ]
  },
  {
   "cell_type": "code",
   "execution_count": 37,
   "id": "1c80e056",
   "metadata": {},
   "outputs": [
    {
     "name": "stdout",
     "output_type": "stream",
     "text": [
      "  buying  maint doors persons lug_boot safety  class\n",
      "0  vhigh  vhigh     2       2    small    low  unacc\n",
      "1  vhigh  vhigh     2       2    small    med  unacc\n",
      "2  vhigh  vhigh     2       2    small   high  unacc\n",
      "3  vhigh  vhigh     2       2      med    low  unacc\n",
      "4  vhigh  vhigh     2       2      med    med  unacc\n",
      "Shape: (1728, 7)\n"
     ]
    }
   ],
   "source": [
    "# ---------------- Car Evaluation ----------------\n",
    "df = pd.read_csv(\"/Users/harmanpreetkaur/Downloads/car+evaluation/car.data\", header=None)\n",
    "df.columns = [\"buying\", \"maint\", \"doors\", \"persons\", \"lug_boot\", \"safety\", \"class\"]\n",
    "print(df.head())\n",
    "print(\"Shape:\", df.shape)\n",
    "\n",
    "\n",
    "\n"
   ]
  },
  {
   "cell_type": "code",
   "execution_count": 38,
   "id": "4260544b",
   "metadata": {},
   "outputs": [],
   "source": [
    "for col in [\"buying\", \"maint\", \"doors\", \"persons\", \"lug_boot\", \"safety\"]:\n",
    "    le = LabelEncoder()\n",
    "    df[col] = le.fit_transform(df[col].astype(str))\n",
    "\n",
    "le = LabelEncoder()\n",
    "df[\"class\"] = le.fit_transform(df[\"class\"].astype(str))\n",
    "\n",
    "X = df.drop(columns=[\"class\"]).values\n",
    "y = df[\"class\"].values\n",
    "X = StandardScaler().fit_transform(X)\n",
    "\n",
    "\n"
   ]
  },
  {
   "cell_type": "code",
   "execution_count": 39,
   "id": "23ed943f",
   "metadata": {},
   "outputs": [
    {
     "name": "stdout",
     "output_type": "stream",
     "text": [
      "My KNN accuracies per fold: [0.8728323699421965, 0.9190751445086706, 0.930635838150289, 0.9364161849710982, 0.9132947976878613, 0.9075144508670521, 0.930635838150289, 0.9595375722543352, 0.9418604651162791, 0.9186046511627907]\n",
      "My KNN mean accuracy: 0.9230407312810863\n",
      "Sklearn KNN mean accuracy: 0.9265291033741094\n",
      "Hypothesis Test: {'t_stat': np.float64(-1.0355168165348518), 'p_val_t': np.float64(0.327448701459279), 'mean_diff': np.float64(-0.0034883720930231066)}\n"
     ]
    }
   ],
   "source": [
    "my_accs = evaluate_knn_kfold(X, y, k_nn=3, folds=10)\n",
    "sk_accs = evaluate_sklearn_knn_kfold(X, y, k_nn=3, folds=10)\n",
    "tests = paired_tests(my_accs, sk_accs)\n",
    "print(\"My KNN accuracies per fold:\", my_accs)\n",
    "print(\"My KNN mean accuracy:\", np.mean(my_accs))\n",
    "print(\"Sklearn KNN mean accuracy:\", np.mean(sk_accs))\n",
    "print(\"Hypothesis Test:\", tests)\n",
    "results.append((\"Car Evaluation\", np.mean(my_accs), np.mean(sk_accs), tests[\"p_val_t\"]))\n",
    "all_fold_results[\"Car Evaluation\"] = (my_accs, sk_accs)\n"
   ]
  },
  {
   "cell_type": "code",
   "execution_count": 40,
   "id": "51da4692",
   "metadata": {},
   "outputs": [
    {
     "name": "stdout",
     "output_type": "stream",
     "text": [
      "                      0      1        2      3    4   5  6      7          8  \\\n",
      "0  no-recurrence-events  30-39  premeno  30-34  0-2  no  3   left   left_low   \n",
      "1  no-recurrence-events  40-49  premeno  20-24  0-2  no  2  right   right_up   \n",
      "2  no-recurrence-events  40-49  premeno  20-24  0-2  no  2   left   left_low   \n",
      "3  no-recurrence-events  60-69     ge40  15-19  0-2  no  2  right    left_up   \n",
      "4  no-recurrence-events  40-49  premeno    0-4  0-2  no  2  right  right_low   \n",
      "\n",
      "    9  \n",
      "0  no  \n",
      "1  no  \n",
      "2  no  \n",
      "3  no  \n",
      "4  no  \n",
      "Shape: (286, 10)\n"
     ]
    }
   ],
   "source": [
    "# ---------------- Breast Cancer ----------------\n",
    "df = pd.read_csv(\"/Users/harmanpreetkaur/Downloads/breast+cancer/breast-cancer.data\", header=None)\n",
    "print(df.head())\n",
    "print(\"Shape:\", df.shape)\n",
    "df.columns = [\n",
    "    \"class\", \"age\", \"menopause\", \"tumor_size\", \"inv_nodes\", \"node_caps\",\n",
    "    \"deg_malig\", \"breast\", \"breast_quad\", \"irradiat\"\n",
    "]\n",
    "\n",
    "df = df.replace(\"?\", np.nan)\n",
    "for col in df.columns:\n",
    "    df[col] = df[col].fillna(df[col].mode()[0])\n",
    "\n",
    "\n"
   ]
  },
  {
   "cell_type": "code",
   "execution_count": 41,
   "id": "d57f58d7",
   "metadata": {},
   "outputs": [
    {
     "name": "stdout",
     "output_type": "stream",
     "text": [
      "My KNN accuracies per fold: [0.7241379310344828, 0.7241379310344828, 0.4827586206896552, 0.7586206896551724, 0.7586206896551724, 0.7241379310344828, 0.7142857142857143, 0.8928571428571429, 0.6071428571428571, 0.6428571428571429]\n",
      "My KNN mean accuracy: 0.7029556650246306\n",
      "Sklearn KNN mean accuracy: 0.6993842364532019\n",
      "Hypothesis Test: {'t_stat': np.float64(1.0), 'p_val_t': np.float64(0.34343639613791355), 'mean_diff': np.float64(0.0035714285714286698)}\n"
     ]
    }
   ],
   "source": [
    "for col in df.columns:\n",
    "    if col != \"class\":\n",
    "        le = LabelEncoder()\n",
    "        df[col] = le.fit_transform(df[col].astype(str))\n",
    "\n",
    "le = LabelEncoder()\n",
    "df[\"class\"] = le.fit_transform(df[\"class\"].astype(str))\n",
    "\n",
    "X = df.drop(columns=[\"class\"]).values\n",
    "y = df[\"class\"].values\n",
    "X = StandardScaler().fit_transform(X)\n",
    "\n",
    "my_accs = evaluate_knn_kfold(X, y, k_nn=3, folds=10)\n",
    "sk_accs = evaluate_sklearn_knn_kfold(X, y, k_nn=3, folds=10)\n",
    "tests = paired_tests(my_accs, sk_accs)\n",
    "print(\"My KNN accuracies per fold:\", my_accs)\n",
    "print(\"My KNN mean accuracy:\", np.mean(my_accs))\n",
    "print(\"Sklearn KNN mean accuracy:\", np.mean(sk_accs))\n",
    "print(\"Hypothesis Test:\", tests)\n",
    "results.append((\"Breast Cancer\", np.mean(my_accs), np.mean(sk_accs), tests[\"p_val_t\"]))\n",
    "all_fold_results[\"Breast Cancer\"] = (my_accs, sk_accs)\n",
    "\n"
   ]
  },
  {
   "cell_type": "code",
   "execution_count": 42,
   "id": "a0ede71a",
   "metadata": {},
   "outputs": [
    {
     "name": "stdout",
     "output_type": "stream",
     "text": [
      "          Dataset  My KNN Mean Acc  Sklearn KNN Mean Acc  p-value (t-test)\n",
      "0      Hayes-Roth         0.568132              0.598352          0.036910\n",
      "1  Car Evaluation         0.923041              0.926529          0.327449\n",
      "2   Breast Cancer         0.702956              0.699384          0.343436\n"
     ]
    },
    {
     "data": {
      "image/png": "[encoded data removed]",
      "text/plain": [
       "<Figure size 800x500 with 1 Axes>"
      ]
     },
     "metadata": {},
     "output_type": "display_data"
    },
    {
     "data": {
      "image/png": "[encoded data removed]",
      "text/plain": [
       "<Figure size 600x400 with 1 Axes>"
      ]
     },
     "metadata": {},
     "output_type": "display_data"
    },
    {
     "data": {
      "image/png": "[encoded data removed]",
      "text/plain": [
       "<Figure size 600x400 with 1 Axes>"
      ]
     },
     "metadata": {},
     "output_type": "display_data"
    },
    {
     "data": {
      "image/png": "[encoded data removed]",
      "text/plain": [
       "<Figure size 600x400 with 1 Axes>"
      ]
     },
     "metadata": {},
     "output_type": "display_data"
    }
   ],
   "source": [
    "# ---------------- Summary Table ----------------\n",
    "summary = pd.DataFrame(results, columns=[\"Dataset\", \"My KNN Mean Acc\", \"Sklearn KNN Mean Acc\", \"p-value (t-test)\"])\n",
    "print(summary)\n",
    "\n",
    "# ---------------- Bar Chart ----------------\n",
    "datasets = [r[0] for r in results]\n",
    "my_means = [r[1] for r in results]\n",
    "sk_means = [r[2] for r in results]\n",
    "\n",
    "x = np.arange(len(datasets))\n",
    "width = 0.35\n",
    "\n",
    "plt.figure(figsize=(8,5))\n",
    "plt.bar(x - width/2, my_means, width, label=\"My KNN\")\n",
    "plt.bar(x + width/2, sk_means, width, label=\"Sklearn KNN\")\n",
    "plt.xticks(x, datasets)\n",
    "plt.ylabel(\"Mean Accuracy\")\n",
    "plt.title(\"Mean Accuracy Comparison (10-Fold CV)\")\n",
    "plt.legend()\n",
    "plt.savefig(\"comparison_bar_chart.png\", dpi=300)\n",
    "plt.show()\n",
    "\n",
    "# ---------------- Boxplots for Each Dataset ----------------\n",
    "for dataset, (my_accs, sk_accs) in all_fold_results.items():\n",
    "    plt.figure(figsize=(6,4))\n",
    "    plt.boxplot([my_accs, sk_accs], tick_labels=[\"My KNN\", \"Sklearn KNN\"])\n",
    "    plt.title(f\"{dataset}: Accuracy per Fold\")\n",
    "    plt.ylabel(\"Accuracy\")\n",
    "    plt.savefig(f\"{dataset.lower().replace(' ','_')}_boxplot.png\", dpi=300)\n",
    "    plt.show()\n"
   ]
  },
  {
   "cell_type": "code",
   "execution_count": 2,
   "id": "4cb805c0-a55d-4cb6-916b-61b3795a9f97",
   "metadata": {},
   "outputs": [
    {
     "name": "stdout",
     "output_type": "stream",
     "text": [
      "/Users/harmanpreetkaur/.pyenv/versions/3.13.5/bin/python\n"
     ]
    }
   ],
   "source": [
    "import sys\n",
    "print(sys.executable)\n"
   ]
  }
 ],
 "metadata": {
  "kernelspec": {
   "display_name": "3.13.5",
   "language": "python",
   "name": "python3"
  },
  "language_info": {
   "codemirror_mode": {
    "name": "ipython",
    "version": 3
   },
   "file_extension": ".py",
   "mimetype": "text/x-python",
   "name": "python",
   "nbconvert_exporter": "python",
   "pygments_lexer": "ipython3",
   "version": "3.13.5"
  }
 },
 "nbformat": 4,
 "nbformat_minor": 5
}
